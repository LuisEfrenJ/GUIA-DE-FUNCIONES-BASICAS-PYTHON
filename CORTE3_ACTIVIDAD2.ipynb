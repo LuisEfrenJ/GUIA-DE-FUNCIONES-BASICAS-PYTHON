{
  "nbformat": 4,
  "nbformat_minor": 0,
  "metadata": {
    "colab": {
      "name": "CORTE3-ACTIVIDAD2.ipynb",
      "provenance": [],
      "collapsed_sections": []
    },
    "kernelspec": {
      "name": "python3",
      "display_name": "Python 3"
    },
    "language_info": {
      "name": "python"
    }
  },
  "cells": [
    {
      "cell_type": "markdown",
      "source": [
        ""
      ],
      "metadata": {
        "id": "FslRYmP2jnpU"
      }
    },
    {
      "cell_type": "markdown",
      "source": [
        "#Funciones de Programación\n",
        "#Tipos de datos usados en programacion\n",
        "'Las funciones se refieren a un tipo de codigo organizado que cumple una tarea en especifico al momento de programar'\n",
        "#En Python una funcion tiene como sintaxis las siguientes caracteristicas para definir una función:\n",
        "1.   La palabra clave def\n",
        "2.   Un nombre de función\n",
        "3.   Paréntesis ’()’, y dentro de los paréntesis los parámetros de entrada, aunque los parámetros de entrada sean opcionales.\n",
        "4.   Dos puntos ’:’\n",
        "5.   Algún bloque de código para ejecutar\n",
        "6.   Una sentencia de retorno (opcional)"
      ],
      "metadata": {
        "id": "JThzfMZXjvod"
      }
    },
    {
      "cell_type": "code",
      "source": [
        "# función sin parámetros o retorno de valores\n",
        "def diHola():\n",
        "  print(\"Hola!\")"
      ],
      "metadata": {
        "id": "ID_b-iDrk8Zi"
      },
      "execution_count": 4,
      "outputs": []
    },
    {
      "cell_type": "markdown",
      "source": [
        "Las funciones en Python se crean usando la palabra clave def, seguida de un nombre de función y parámetros de función entre paréntesis.\n",
        "\n",
        "Una función siempre devuelve un valor. La función utiliza la palabra clave return  para devolver un valor; si no desea devolver ningún valor, se devolverá el valor predeterminado None.\n",
        "\n",
        "El nombre de la función se usa para llamar a la función, pasando los parámetros necesarios entre paréntesis."
      ],
      "metadata": {
        "id": "4eCwIp_wnEVh"
      }
    },
    {
      "cell_type": "markdown",
      "source": [
        "Puedes definir valores predeterminados para los parámetros, de esa manera Python interpretará que el valor de ese parámetro es el predeterminado si no se proporciona ninguno."
      ],
      "metadata": {
        "id": "4eC5vwG7qRPd"
      }
    },
    {
      "cell_type": "code",
      "source": [
        "# esta es una función básica de suma\n",
        "def suma(a, b=3):\n",
        "  return a + b\n",
        "result = suma(1)\n",
        "#result=4"
      ],
      "metadata": {
        "id": "aHSGWlSsnHKq"
      },
      "execution_count": 7,
      "outputs": []
    },
    {
      "cell_type": "markdown",
      "source": [
        "#Función max():\n",
        "Devuelve el elemento mas grande en un iterable o el más grande en dos o mas argumentos."
      ],
      "metadata": {
        "id": "nNHL-TLVqj2T"
      }
    },
    {
      "cell_type": "code",
      "source": [
        "print(max(4, 5, 75))\n",
        "\"\"\"Devuelve el 75 ya que es el numero mayor de todos los valores\"\"\""
      ],
      "metadata": {
        "colab": {
          "base_uri": "https://localhost:8080/"
        },
        "id": "3TXSIUJNrNc1",
        "outputId": "194faad8-939c-444b-e5a4-7b2b51158e96"
      },
      "execution_count": 9,
      "outputs": [
        {
          "output_type": "stream",
          "name": "stdout",
          "text": [
            "75\n"
          ]
        }
      ]
    },
    {
      "cell_type": "code",
      "source": [
        "list2 = ['c', 'd', 'f' ]\n",
        "print(max(list2)) \n",
        "# Devuelve 'f' ya que 'f' es el valor más grande en la lista porque 'f' tiene un valor ascii mayor que 'c' ,'d'"
      ],
      "metadata": {
        "colab": {
          "base_uri": "https://localhost:8080/"
        },
        "id": "AUEw3EHlriAY",
        "outputId": "8f5c54f8-b727-4401-c27f-dba08c0d1ee0"
      },
      "execution_count": 10,
      "outputs": [
        {
          "output_type": "stream",
          "name": "stdout",
          "text": [
            "f\n"
          ]
        }
      ]
    },
    {
      "cell_type": "markdown",
      "source": [
        "#Función min()\n",
        "Devuelve el elemento más pequeño en un iterable o el más pequeño de dos o más argumentos."
      ],
      "metadata": {
        "id": "NfVavuRQucSU"
      }
    },
    {
      "cell_type": "code",
      "source": [
        "\n",
        "print(min(4, -65, -52)) # Devuelve -65 ya que -65 es el más pequeño de los tres valores"
      ],
      "metadata": {
        "colab": {
          "base_uri": "https://localhost:8080/"
        },
        "id": "y2iCOB1Uuo1V",
        "outputId": "a6669ea0-08da-471e-acbe-b31c287d545e"
      },
      "execution_count": 11,
      "outputs": [
        {
          "output_type": "stream",
          "name": "stdout",
          "text": [
            "-65\n"
          ]
        }
      ]
    },
    {
      "cell_type": "code",
      "source": [
        "list2 = ['a', 'b', 'c' ]\n",
        "print(min(list2)) # Devuelve 'a' ya que 'a' es el valor más pequeño de la lista en orden alfabético"
      ],
      "metadata": {
        "colab": {
          "base_uri": "https://localhost:8080/"
        },
        "id": "inXaqtwAvBcg",
        "outputId": "953e77e6-544c-4b84-d328-7e5fe320ea56"
      },
      "execution_count": 12,
      "outputs": [
        {
          "output_type": "stream",
          "name": "stdout",
          "text": [
            "a\n"
          ]
        }
      ]
    },
    {
      "cell_type": "markdown",
      "source": [
        "#Función divmod()\n",
        "Devuelve el cociente y el resto al dividir el número a por el número b. Toma dos números como argumentos a & b. El argumento no puede ser un número complejo."
      ],
      "metadata": {
        "id": "WVQKHXQNvMWc"
      }
    },
    {
      "cell_type": "code",
      "source": [
        "print(divmod(8,2))"
      ],
      "metadata": {
        "colab": {
          "base_uri": "https://localhost:8080/"
        },
        "id": "xr2VPA-Tv8uo",
        "outputId": "f6bc1f8d-f8a2-47ba-838b-cd901b7c465c"
      },
      "execution_count": 13,
      "outputs": [
        {
          "output_type": "stream",
          "name": "stdout",
          "text": [
            "(4, 0)\n"
          ]
        }
      ]
    },
    {
      "cell_type": "code",
      "source": [
        "print(divmod(14.6,3.5))"
      ],
      "metadata": {
        "colab": {
          "base_uri": "https://localhost:8080/"
        },
        "id": "Yw4pynYqwKES",
        "outputId": "e12c108a-fba2-4c1a-9f0e-29ef4b1957bc"
      },
      "execution_count": 14,
      "outputs": [
        {
          "output_type": "stream",
          "name": "stdout",
          "text": [
            "(4.0, 0.5999999999999996)\n"
          ]
        }
      ]
    },
    {
      "cell_type": "markdown",
      "source": [
        "#Función Hex(x):\n",
        "Convierte un número entero en una cadena hexadecimal en minúscula con el prefijo \"0x\". Esta función toma un argumento, x, que debería ser de tipo entero."
      ],
      "metadata": {
        "id": "eIvS0E_ZwUSl"
      }
    },
    {
      "cell_type": "code",
      "source": [
        "print(hex(20))"
      ],
      "metadata": {
        "colab": {
          "base_uri": "https://localhost:8080/"
        },
        "id": "NMTl5i5gxS0I",
        "outputId": "6fb023f1-2bdf-4fc0-fbf3-d663cc4478cc"
      },
      "execution_count": 15,
      "outputs": [
        {
          "output_type": "stream",
          "name": "stdout",
          "text": [
            "0x14\n"
          ]
        }
      ]
    },
    {
      "cell_type": "code",
      "source": [
        "print(hex(-157))  # muestra -0x12a"
      ],
      "metadata": {
        "colab": {
          "base_uri": "https://localhost:8080/"
        },
        "id": "VZN11sOyx_Qp",
        "outputId": "75ee6794-1eb8-425e-f6f9-7705df23f7d5"
      },
      "execution_count": 16,
      "outputs": [
        {
          "output_type": "stream",
          "name": "stdout",
          "text": [
            "-0x9d\n"
          ]
        }
      ]
    },
    {
      "cell_type": "markdown",
      "source": [
        "#Función len():\n",
        "devuelve la longitud (el número de elementos) de un objeto. Toma un argumento x.\n",
        "*   Este argumento puede ser una secuencia (como un string, bytes, tupla, lista o rango) o una colección (como un diccionario, conjunto o conjunto congelado).\n",
        "\n",
        "\n",
        "\n",
        "\n",
        "\n"
      ],
      "metadata": {
        "id": "6L141MiByGIy"
      }
    },
    {
      "cell_type": "code",
      "source": [
        "list1 = ['krillin', 252, 'Dross'] # lista\n",
        "print(len(list1)) # muestra 3 ya que hay 3 elementos en list1"
      ],
      "metadata": {
        "colab": {
          "base_uri": "https://localhost:8080/"
        },
        "id": "_uRyM_p6ypfs",
        "outputId": "c1b25c09-8ab9-4a93-e75a-1e58659242fc"
      },
      "execution_count": 17,
      "outputs": [
        {
          "output_type": "stream",
          "name": "stdout",
          "text": [
            "3\n"
          ]
        }
      ]
    },
    {
      "cell_type": "code",
      "source": [
        "tuple1 = (0, 5, 10, 15) # tuple \n",
        "print(len(tuple1)) # muestra 4 ya que hay 4 elementos en tuple1"
      ],
      "metadata": {
        "colab": {
          "base_uri": "https://localhost:8080/"
        },
        "id": "4CbWYUCdy3WL",
        "outputId": "007fd296-879f-4a29-e783-b72ffe62e028"
      },
      "execution_count": 18,
      "outputs": [
        {
          "output_type": "stream",
          "name": "stdout",
          "text": [
            "4\n"
          ]
        }
      ]
    },
    {
      "cell_type": "code",
      "source": [
        "str1 = 'nevermind' # string\n",
        "print(len(str1)) # muestra 9 ya que str1 tiene 12 carácteres"
      ],
      "metadata": {
        "colab": {
          "base_uri": "https://localhost:8080/"
        },
        "id": "UFSWDG0fzBtx",
        "outputId": "f3dccdaa-83b6-41d5-a693-c606fd5421bb"
      },
      "execution_count": 20,
      "outputs": [
        {
          "output_type": "stream",
          "name": "stdout",
          "text": [
            "9\n"
          ]
        }
      ]
    },
    {
      "cell_type": "markdown",
      "source": [
        "#Función Ord()\n",
        "convertir la cadena que representa un carácter Unicode en un entero que representa el código Unicode del carácter."
      ],
      "metadata": {
        "id": "P6FJY1T7zUBs"
      }
    },
    {
      "cell_type": "code",
      "source": [
        ">>> ord('h')\n"
      ],
      "metadata": {
        "colab": {
          "base_uri": "https://localhost:8080/"
        },
        "id": "iLmgaYZ11oZW",
        "outputId": "5e69ee70-75e1-4e61-b5cd-9429e29b8506"
      },
      "execution_count": 22,
      "outputs": [
        {
          "output_type": "execute_result",
          "data": {
            "text/plain": [
              "104"
            ]
          },
          "metadata": {},
          "execution_count": 22
        }
      ]
    },
    {
      "cell_type": "markdown",
      "source": [
        "#Función Chr()\n",
        "convertir el número entero que representa el código Unicode en una cadena que representa un carácter correspondiente."
      ],
      "metadata": {
        "id": "RFw3UBM_10Z-"
      }
    },
    {
      "cell_type": "code",
      "source": [
        ">>> chr(49)\n",
        "'1'"
      ],
      "metadata": {
        "colab": {
          "base_uri": "https://localhost:8080/",
          "height": 35
        },
        "id": "49WR_Vmj2Fe8",
        "outputId": "9f5dcb89-9acf-42fa-b8d8-fe29e976550d"
      },
      "execution_count": 26,
      "outputs": [
        {
          "output_type": "execute_result",
          "data": {
            "text/plain": [
              "'1'"
            ],
            "application/vnd.google.colaboratory.intrinsic+json": {
              "type": "string"
            }
          },
          "metadata": {},
          "execution_count": 26
        }
      ]
    },
    {
      "cell_type": "markdown",
      "source": [
        "#Funciones input()\n",
        "Muchas veces, en un programa necesitamos alguna información del usuario. Recibir información del usuario hace que el programa se sienta interactivo.\n",
        "\n",
        "*    Si se llama a la función input, el flujo del programa se detendrá hasta que el usuario haya introducido la información y haya finalizado la introducción de información con la tecla de retorno. \n",
        "\n",
        "\n",
        "*   Cuando solo queremos recibir información: inp = input()\n",
        "*   Para mostrar en la línea de comandos un mensaje:\n",
        "promptwithmessage = input(’‘)\n",
        "\n",
        "\n",
        "*   Sin embargo, las entradas se almacenan de forma predeterminada como un string. El uso de la función str() deja en claro al lector de código que la entrada será una \"cadena\". Es una buena práctica mencionar de antemano qué tipo de información se tomará.\n",
        "\n",
        "\n",
        "\n",
        "\n",
        "\n",
        "\n",
        "\n",
        "\n",
        "\n"
      ],
      "metadata": {
        "id": "YdcufIlv3pzs"
      }
    },
    {
      "cell_type": "code",
      "source": [
        "#Caso de cadenas te texto String\n",
        "nombre= str((input(\"Ingrese su nombre:\")))\n",
        "print(\"hola\", nombre)"
      ],
      "metadata": {
        "colab": {
          "base_uri": "https://localhost:8080/"
        },
        "id": "zVBowLYh79jk",
        "outputId": "4b3af2d3-b254-4ed1-c560-3e242366acc8"
      },
      "execution_count": 32,
      "outputs": [
        {
          "output_type": "stream",
          "name": "stdout",
          "text": [
            "Ingrese su nombre:Luis\n",
            "hola Luis\n"
          ]
        }
      ]
    },
    {
      "cell_type": "code",
      "source": [
        "#Caso de números o enteros Integer\n",
        "num1=int((input(\"Ingrese el primer numero:\")))\n",
        "num2=int((input(\"Ingrese el segundo numero:\")))\n",
        "sum=num1+num2\n",
        "print(\"La suma es\",sum)"
      ],
      "metadata": {
        "colab": {
          "base_uri": "https://localhost:8080/"
        },
        "id": "I4pVbLiw8NXB",
        "outputId": "ef4fea2f-4824-4089-8f88-547c929b5806"
      },
      "execution_count": 33,
      "outputs": [
        {
          "output_type": "stream",
          "name": "stdout",
          "text": [
            "Ingrese el primer numero:20\n",
            "Ingrese el segundo numero:10\n",
            "La suma es 30\n"
          ]
        }
      ]
    },
    {
      "cell_type": "code",
      "source": [
        "#Ejemplo y uso de la definición de funciones \n",
        "def volEsfera(x):\n",
        "  Volumen=4/3*3.14*x*x*x\n",
        "  return Volumen\n",
        "  print(Volumen)"
      ],
      "metadata": {
        "id": "64UuyAfU8qif"
      },
      "execution_count": 36,
      "outputs": []
    }
  ]
}